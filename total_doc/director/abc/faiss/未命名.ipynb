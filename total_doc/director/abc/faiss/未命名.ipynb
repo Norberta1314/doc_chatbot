{
 "cells": [
  {
   "cell_type": "code",
   "execution_count": 2,
   "id": "3efe2d43-890b-4318-bb91-1cba7f2f618a",
   "metadata": {
    "ExecutionIndicator": {
     "show": false
    },
    "execution": {
     "iopub.execute_input": "2024-06-18T10:54:15.794665Z",
     "iopub.status.busy": "2024-06-18T10:54:15.794339Z",
     "iopub.status.idle": "2024-06-18T10:54:16.051553Z",
     "shell.execute_reply": "2024-06-18T10:54:16.051091Z",
     "shell.execute_reply.started": "2024-06-18T10:54:15.794646Z"
    },
    "tags": []
   },
   "outputs": [],
   "source": [
    "from langchain import FAISS\n",
    "\n",
    "import pickle\n",
    "with open(\"/mnt/workspace/doc_chatbot/total_doc/director/安装与调试.md/faiss/large.index.pkl\",\"rb\") as f:\n",
    "    load_data = pickle.load(f)\n",
    "    \n",
    "embeddings = HuggingFaceEmbeddings(\"bge-m3)\n",
    "db = FAISS.load_local(\"/mnt/workspace/doc_chatbot/total_doc/director/安装与调试.md/faiss/\", embeddings)\n",
    "    "
   ]
  }
 ],
 "metadata": {
  "kernelspec": {
   "display_name": "Python 3 (ipykernel)",
   "language": "python",
   "name": "python3"
  },
  "language_info": {
   "codemirror_mode": {
    "name": "ipython",
    "version": 3
   },
   "file_extension": ".py",
   "mimetype": "text/x-python",
   "name": "python",
   "nbconvert_exporter": "python",
   "pygments_lexer": "ipython3",
   "version": "3.10.14"
  }
 },
 "nbformat": 4,
 "nbformat_minor": 5
}
